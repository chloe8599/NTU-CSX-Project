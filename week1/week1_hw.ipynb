{
 "cells": [
  {
   "cell_type": "markdown",
   "metadata": {},
   "source": [
    "# HW:嘗試了解91APP資料"
   ]
  },
  {
   "cell_type": "code",
   "execution_count": 1,
   "metadata": {},
   "outputs": [],
   "source": [
    "import pandas as pd\n",
    "import matplotlib.pyplot as plt"
   ]
  },
  {
   "cell_type": "markdown",
   "metadata": {},
   "source": [
    "# 資料讀取"
   ]
  },
  {
   "cell_type": "code",
   "execution_count": 2,
   "metadata": {},
   "outputs": [],
   "source": [
    "Orders = pd.read_csv('datasets/Orders.csv', low_memory=False)"
   ]
  },
  {
   "cell_type": "markdown",
   "metadata": {},
   "source": [
    "# 資料概況"
   ]
  },
  {
   "cell_type": "code",
   "execution_count": 3,
   "metadata": {},
   "outputs": [
    {
     "data": {
      "text/html": [
       "<div>\n",
       "<style scoped>\n",
       "    .dataframe tbody tr th:only-of-type {\n",
       "        vertical-align: middle;\n",
       "    }\n",
       "\n",
       "    .dataframe tbody tr th {\n",
       "        vertical-align: top;\n",
       "    }\n",
       "\n",
       "    .dataframe thead th {\n",
       "        text-align: right;\n",
       "    }\n",
       "</style>\n",
       "<table border=\"1\" class=\"dataframe\">\n",
       "  <thead>\n",
       "    <tr style=\"text-align: right;\">\n",
       "      <th></th>\n",
       "      <th>0</th>\n",
       "      <th>1</th>\n",
       "      <th>2</th>\n",
       "    </tr>\n",
       "  </thead>\n",
       "  <tbody>\n",
       "    <tr>\n",
       "      <th>DateId</th>\n",
       "      <td>20150703</td>\n",
       "      <td>20150703</td>\n",
       "      <td>20150703</td>\n",
       "    </tr>\n",
       "    <tr>\n",
       "      <th>MemberId</th>\n",
       "      <td>1388133</td>\n",
       "      <td>1388133</td>\n",
       "      <td>1388133</td>\n",
       "    </tr>\n",
       "    <tr>\n",
       "      <th>OrderGroupCode</th>\n",
       "      <td>b'\\xd0_\\x8eby\\xe8\\x88\\xa5\\x85\\xe4\\x15\\nMC\\xeaO...</td>\n",
       "      <td>b'\\xd0_\\x8eby\\xe8\\x88\\xa5\\x85\\xe4\\x15\\nMC\\xeaO...</td>\n",
       "      <td>b'\\xd0_\\x8eby\\xe8\\x88\\xa5\\x85\\xe4\\x15\\nMC\\xeaO...</td>\n",
       "    </tr>\n",
       "    <tr>\n",
       "      <th>TrackSourceTypeDef</th>\n",
       "      <td>Web</td>\n",
       "      <td>Web</td>\n",
       "      <td>Web</td>\n",
       "    </tr>\n",
       "    <tr>\n",
       "      <th>TrackDeviceTypeDef</th>\n",
       "      <td>Mobile</td>\n",
       "      <td>Mobile</td>\n",
       "      <td>Mobile</td>\n",
       "    </tr>\n",
       "    <tr>\n",
       "      <th>PayProfileTypeDef</th>\n",
       "      <td>SevenEleven</td>\n",
       "      <td>SevenEleven</td>\n",
       "      <td>SevenEleven</td>\n",
       "    </tr>\n",
       "    <tr>\n",
       "      <th>SalesOrderSlaveId</th>\n",
       "      <td>4457777</td>\n",
       "      <td>4457778</td>\n",
       "      <td>4457779</td>\n",
       "    </tr>\n",
       "    <tr>\n",
       "      <th>SalePageId</th>\n",
       "      <td>1242871</td>\n",
       "      <td>1242880</td>\n",
       "      <td>1242880</td>\n",
       "    </tr>\n",
       "    <tr>\n",
       "      <th>IsMajor</th>\n",
       "      <td>True</td>\n",
       "      <td>True</td>\n",
       "      <td>True</td>\n",
       "    </tr>\n",
       "    <tr>\n",
       "      <th>IsGift</th>\n",
       "      <td>False</td>\n",
       "      <td>False</td>\n",
       "      <td>False</td>\n",
       "    </tr>\n",
       "    <tr>\n",
       "      <th>IsSalePageGift</th>\n",
       "      <td>False</td>\n",
       "      <td>False</td>\n",
       "      <td>False</td>\n",
       "    </tr>\n",
       "    <tr>\n",
       "      <th>Quantity</th>\n",
       "      <td>1</td>\n",
       "      <td>1</td>\n",
       "      <td>1</td>\n",
       "    </tr>\n",
       "    <tr>\n",
       "      <th>UnitPrice</th>\n",
       "      <td>350</td>\n",
       "      <td>199</td>\n",
       "      <td>199</td>\n",
       "    </tr>\n",
       "    <tr>\n",
       "      <th>PromotionDiscount</th>\n",
       "      <td>0</td>\n",
       "      <td>0</td>\n",
       "      <td>0</td>\n",
       "    </tr>\n",
       "    <tr>\n",
       "      <th>ECouponId</th>\n",
       "      <td>0</td>\n",
       "      <td>0</td>\n",
       "      <td>0</td>\n",
       "    </tr>\n",
       "    <tr>\n",
       "      <th>ECouponDiscount</th>\n",
       "      <td>0</td>\n",
       "      <td>0</td>\n",
       "      <td>0</td>\n",
       "    </tr>\n",
       "    <tr>\n",
       "      <th>SalesOrderSlaveTotalPayment</th>\n",
       "      <td>350</td>\n",
       "      <td>199</td>\n",
       "      <td>199</td>\n",
       "    </tr>\n",
       "    <tr>\n",
       "      <th>SalesOrderSlaveDateTime</th>\n",
       "      <td>2015-07-03 07:30:02.007</td>\n",
       "      <td>2015-07-03 07:30:02.023</td>\n",
       "      <td>2015-07-03 07:30:02.040</td>\n",
       "    </tr>\n",
       "    <tr>\n",
       "      <th>SalesOrderReceiverId</th>\n",
       "      <td>1480890</td>\n",
       "      <td>1480890</td>\n",
       "      <td>1480890</td>\n",
       "    </tr>\n",
       "    <tr>\n",
       "      <th>City</th>\n",
       "      <td>嘉義縣</td>\n",
       "      <td>嘉義縣</td>\n",
       "      <td>嘉義縣</td>\n",
       "    </tr>\n",
       "    <tr>\n",
       "      <th>District</th>\n",
       "      <td>水上鄉</td>\n",
       "      <td>水上鄉</td>\n",
       "      <td>水上鄉</td>\n",
       "    </tr>\n",
       "    <tr>\n",
       "      <th>ZipCode</th>\n",
       "      <td>608</td>\n",
       "      <td>608</td>\n",
       "      <td>608</td>\n",
       "    </tr>\n",
       "    <tr>\n",
       "      <th>StoreName</th>\n",
       "      <td>中庄門市</td>\n",
       "      <td>中庄門市</td>\n",
       "      <td>中庄門市</td>\n",
       "    </tr>\n",
       "    <tr>\n",
       "      <th>StoreId</th>\n",
       "      <td>910828</td>\n",
       "      <td>910828</td>\n",
       "      <td>910828</td>\n",
       "    </tr>\n",
       "    <tr>\n",
       "      <th>DeliverTypeDef</th>\n",
       "      <td>SevenEleven</td>\n",
       "      <td>SevenEleven</td>\n",
       "      <td>SevenEleven</td>\n",
       "    </tr>\n",
       "    <tr>\n",
       "      <th>StatusDef</th>\n",
       "      <td>Finish</td>\n",
       "      <td>Finish</td>\n",
       "      <td>Finish</td>\n",
       "    </tr>\n",
       "    <tr>\n",
       "      <th>ReturnGoodsDateId</th>\n",
       "      <td>NaN</td>\n",
       "      <td>NaN</td>\n",
       "      <td>NaN</td>\n",
       "    </tr>\n",
       "    <tr>\n",
       "      <th>CauseDef</th>\n",
       "      <td>NaN</td>\n",
       "      <td>NaN</td>\n",
       "      <td>NaN</td>\n",
       "    </tr>\n",
       "  </tbody>\n",
       "</table>\n",
       "</div>"
      ],
      "text/plain": [
       "                                                                             0  \\\n",
       "DateId                                                                20150703   \n",
       "MemberId                                                               1388133   \n",
       "OrderGroupCode               b'\\xd0_\\x8eby\\xe8\\x88\\xa5\\x85\\xe4\\x15\\nMC\\xeaO...   \n",
       "TrackSourceTypeDef                                                         Web   \n",
       "TrackDeviceTypeDef                                                      Mobile   \n",
       "PayProfileTypeDef                                                  SevenEleven   \n",
       "SalesOrderSlaveId                                                      4457777   \n",
       "SalePageId                                                             1242871   \n",
       "IsMajor                                                                   True   \n",
       "IsGift                                                                   False   \n",
       "IsSalePageGift                                                           False   \n",
       "Quantity                                                                     1   \n",
       "UnitPrice                                                                  350   \n",
       "PromotionDiscount                                                            0   \n",
       "ECouponId                                                                    0   \n",
       "ECouponDiscount                                                              0   \n",
       "SalesOrderSlaveTotalPayment                                                350   \n",
       "SalesOrderSlaveDateTime                                2015-07-03 07:30:02.007   \n",
       "SalesOrderReceiverId                                                   1480890   \n",
       "City                                                                       嘉義縣   \n",
       "District                                                                   水上鄉   \n",
       "ZipCode                                                                    608   \n",
       "StoreName                                                                 中庄門市   \n",
       "StoreId                                                                 910828   \n",
       "DeliverTypeDef                                                     SevenEleven   \n",
       "StatusDef                                                               Finish   \n",
       "ReturnGoodsDateId                                                          NaN   \n",
       "CauseDef                                                                   NaN   \n",
       "\n",
       "                                                                             1  \\\n",
       "DateId                                                                20150703   \n",
       "MemberId                                                               1388133   \n",
       "OrderGroupCode               b'\\xd0_\\x8eby\\xe8\\x88\\xa5\\x85\\xe4\\x15\\nMC\\xeaO...   \n",
       "TrackSourceTypeDef                                                         Web   \n",
       "TrackDeviceTypeDef                                                      Mobile   \n",
       "PayProfileTypeDef                                                  SevenEleven   \n",
       "SalesOrderSlaveId                                                      4457778   \n",
       "SalePageId                                                             1242880   \n",
       "IsMajor                                                                   True   \n",
       "IsGift                                                                   False   \n",
       "IsSalePageGift                                                           False   \n",
       "Quantity                                                                     1   \n",
       "UnitPrice                                                                  199   \n",
       "PromotionDiscount                                                            0   \n",
       "ECouponId                                                                    0   \n",
       "ECouponDiscount                                                              0   \n",
       "SalesOrderSlaveTotalPayment                                                199   \n",
       "SalesOrderSlaveDateTime                                2015-07-03 07:30:02.023   \n",
       "SalesOrderReceiverId                                                   1480890   \n",
       "City                                                                       嘉義縣   \n",
       "District                                                                   水上鄉   \n",
       "ZipCode                                                                    608   \n",
       "StoreName                                                                 中庄門市   \n",
       "StoreId                                                                 910828   \n",
       "DeliverTypeDef                                                     SevenEleven   \n",
       "StatusDef                                                               Finish   \n",
       "ReturnGoodsDateId                                                          NaN   \n",
       "CauseDef                                                                   NaN   \n",
       "\n",
       "                                                                             2  \n",
       "DateId                                                                20150703  \n",
       "MemberId                                                               1388133  \n",
       "OrderGroupCode               b'\\xd0_\\x8eby\\xe8\\x88\\xa5\\x85\\xe4\\x15\\nMC\\xeaO...  \n",
       "TrackSourceTypeDef                                                         Web  \n",
       "TrackDeviceTypeDef                                                      Mobile  \n",
       "PayProfileTypeDef                                                  SevenEleven  \n",
       "SalesOrderSlaveId                                                      4457779  \n",
       "SalePageId                                                             1242880  \n",
       "IsMajor                                                                   True  \n",
       "IsGift                                                                   False  \n",
       "IsSalePageGift                                                           False  \n",
       "Quantity                                                                     1  \n",
       "UnitPrice                                                                  199  \n",
       "PromotionDiscount                                                            0  \n",
       "ECouponId                                                                    0  \n",
       "ECouponDiscount                                                              0  \n",
       "SalesOrderSlaveTotalPayment                                                199  \n",
       "SalesOrderSlaveDateTime                                2015-07-03 07:30:02.040  \n",
       "SalesOrderReceiverId                                                   1480890  \n",
       "City                                                                       嘉義縣  \n",
       "District                                                                   水上鄉  \n",
       "ZipCode                                                                    608  \n",
       "StoreName                                                                 中庄門市  \n",
       "StoreId                                                                 910828  \n",
       "DeliverTypeDef                                                     SevenEleven  \n",
       "StatusDef                                                               Finish  \n",
       "ReturnGoodsDateId                                                          NaN  \n",
       "CauseDef                                                                   NaN  "
      ]
     },
     "execution_count": 3,
     "metadata": {},
     "output_type": "execute_result"
    }
   ],
   "source": [
    "Orders.head(3).T"
   ]
  },
  {
   "cell_type": "markdown",
   "metadata": {},
   "source": [
    "# 資料樣貌\n",
    "共有5495276筆資料及28個變數"
   ]
  },
  {
   "cell_type": "code",
   "execution_count": 4,
   "metadata": {},
   "outputs": [
    {
     "data": {
      "text/plain": [
       "(5495276, 28)"
      ]
     },
     "execution_count": 4,
     "metadata": {},
     "output_type": "execute_result"
    }
   ],
   "source": [
    "Orders.shape"
   ]
  },
  {
   "cell_type": "markdown",
   "metadata": {},
   "source": [
    "# 資料型態"
   ]
  },
  {
   "cell_type": "code",
   "execution_count": 5,
   "metadata": {},
   "outputs": [
    {
     "name": "stdout",
     "output_type": "stream",
     "text": [
      "<class 'pandas.core.frame.DataFrame'>\n",
      "RangeIndex: 5495276 entries, 0 to 5495275\n",
      "Data columns (total 28 columns):\n",
      "DateId                         int64\n",
      "MemberId                       int64\n",
      "OrderGroupCode                 object\n",
      "TrackSourceTypeDef             object\n",
      "TrackDeviceTypeDef             object\n",
      "PayProfileTypeDef              object\n",
      "SalesOrderSlaveId              int64\n",
      "SalePageId                     int64\n",
      "IsMajor                        bool\n",
      "IsGift                         bool\n",
      "IsSalePageGift                 bool\n",
      "Quantity                       int64\n",
      "UnitPrice                      float64\n",
      "PromotionDiscount              float64\n",
      "ECouponId                      int64\n",
      "ECouponDiscount                float64\n",
      "SalesOrderSlaveTotalPayment    float64\n",
      "SalesOrderSlaveDateTime        object\n",
      "SalesOrderReceiverId           int64\n",
      "City                           object\n",
      "District                       object\n",
      "ZipCode                        float64\n",
      "StoreName                      object\n",
      "StoreId                        object\n",
      "DeliverTypeDef                 object\n",
      "StatusDef                      object\n",
      "ReturnGoodsDateId              float64\n",
      "CauseDef                       object\n",
      "dtypes: bool(3), float64(6), int64(7), object(12)\n",
      "memory usage: 1.0+ GB\n"
     ]
    }
   ],
   "source": [
    "Orders.info()"
   ]
  },
  {
   "cell_type": "markdown",
   "metadata": {},
   "source": [
    "# 各項變數概況"
   ]
  },
  {
   "cell_type": "markdown",
   "metadata": {},
   "source": [
    "# DateId訂單日期\n",
    "明顯可以發現11月銷量特別好"
   ]
  },
  {
   "cell_type": "code",
   "execution_count": 6,
   "metadata": {},
   "outputs": [],
   "source": [
    "Orders.DateId = pd.to_datetime(Orders.DateId.astype(str), format='%Y%m%d')"
   ]
  },
  {
   "cell_type": "code",
   "execution_count": 7,
   "metadata": {},
   "outputs": [
    {
     "data": {
      "image/png": "[encoded data removed]",
      "text/plain": [
       "<matplotlib.figure.Figure at 0x27f800096a0>"
      ]
     },
     "metadata": {},
     "output_type": "display_data"
    }
   ],
   "source": [
    "%matplotlib inline\n",
    "plt.figure(figsize=(10,6))\n",
    "plt.plot(Orders.groupby(by='DateId')['Quantity'].sum())\n",
    "plt.grid(True) \n",
    "plt.show()"
   ]
  },
  {
   "cell_type": "markdown",
   "metadata": {},
   "source": [
    "# TrackSourceTypeDef訂單來源\n",
    "共三種訂單來源，以網頁最多，其次為ios及android app，兩者的數量差不多"
   ]
  },
  {
   "cell_type": "code",
   "execution_count": 8,
   "metadata": {},
   "outputs": [
    {
     "data": {
      "text/plain": [
       "TrackSourceTypeDef\n",
       "AndroidApp    1164055\n",
       "Web           3170094\n",
       "iOSApp        1161127\n",
       "dtype: int64"
      ]
     },
     "execution_count": 8,
     "metadata": {},
     "output_type": "execute_result"
    }
   ],
   "source": [
    "Orders.groupby(\"TrackSourceTypeDef\").size()"
   ]
  },
  {
   "cell_type": "markdown",
   "metadata": {},
   "source": [
    "# TrackDeviceTypeDef訂單裝置來源\n",
    "共三種裝置來源，以行動裝置最多，電腦次之，平板最少"
   ]
  },
  {
   "cell_type": "code",
   "execution_count": 9,
   "metadata": {},
   "outputs": [
    {
     "data": {
      "text/plain": [
       "TrackDeviceTypeDef\n",
       "Mobile    4629625\n",
       "PC         865384\n",
       "Pad           267\n",
       "dtype: int64"
      ]
     },
     "execution_count": 9,
     "metadata": {},
     "output_type": "execute_result"
    }
   ],
   "source": [
    "Orders.groupby(\"TrackDeviceTypeDef\").size()"
   ]
  },
  {
   "cell_type": "markdown",
   "metadata": {},
   "source": [
    "# PayProfileTypeDef付款方式\n",
    "共五種付款方式，以7-11居多Linepay最少"
   ]
  },
  {
   "cell_type": "code",
   "execution_count": 10,
   "metadata": {},
   "outputs": [
    {
     "data": {
      "text/plain": [
       "PayProfileTypeDef\n",
       "ATM                  9133\n",
       "CreditCardOnce     484949\n",
       "Family            2037871\n",
       "LinePay              4188\n",
       "SevenEleven       2959135\n",
       "dtype: int64"
      ]
     },
     "execution_count": 10,
     "metadata": {},
     "output_type": "execute_result"
    }
   ],
   "source": [
    "Orders.groupby(\"PayProfileTypeDef\").size()"
   ]
  },
  {
   "cell_type": "markdown",
   "metadata": {},
   "source": [
    "# IsMajor是否為主件/ IsGift是否為贈品\n",
    "大部分為主件，少部分為贈品"
   ]
  },
  {
   "cell_type": "code",
   "execution_count": 11,
   "metadata": {},
   "outputs": [
    {
     "data": {
      "text/plain": [
       "IsMajor\n",
       "False     134197\n",
       "True     5361079\n",
       "dtype: int64"
      ]
     },
     "execution_count": 11,
     "metadata": {},
     "output_type": "execute_result"
    }
   ],
   "source": [
    "Orders.groupby(\"IsMajor\").size()"
   ]
  },
  {
   "cell_type": "code",
   "execution_count": 12,
   "metadata": {},
   "outputs": [
    {
     "data": {
      "text/plain": [
       "IsGift\n",
       "False    5361079\n",
       "True      134197\n",
       "dtype: int64"
      ]
     },
     "execution_count": 12,
     "metadata": {},
     "output_type": "execute_result"
    }
   ],
   "source": [
    "Orders.groupby(\"IsGift\").size()"
   ]
  },
  {
   "cell_type": "markdown",
   "metadata": {},
   "source": [
    "# Quantity購買數量\n",
    "絕大部分為1件，其次為2件，5件以上的較少"
   ]
  },
  {
   "cell_type": "code",
   "execution_count": 13,
   "metadata": {},
   "outputs": [
    {
     "data": {
      "text/plain": [
       "Quantity\n",
       "1     5401056\n",
       "2       83472\n",
       "3        6586\n",
       "4        2405\n",
       "5         813\n",
       "6         363\n",
       "7         120\n",
       "8         106\n",
       "9          30\n",
       "10        325\n",
       "dtype: int64"
      ]
     },
     "execution_count": 13,
     "metadata": {},
     "output_type": "execute_result"
    }
   ],
   "source": [
    "Orders.groupby(\"Quantity\").size()"
   ]
  },
  {
   "cell_type": "markdown",
   "metadata": {},
   "source": [
    "# UnitPrice商品單價\n",
    "商品單價最低為0元，最高為3500元，平均為263元"
   ]
  },
  {
   "cell_type": "code",
   "execution_count": 14,
   "metadata": {},
   "outputs": [
    {
     "data": {
      "text/plain": [
       "count    5495276.00\n",
       "mean         263.04\n",
       "std          124.74\n",
       "min            0.00\n",
       "25%          199.00\n",
       "50%          237.00\n",
       "75%          320.00\n",
       "max         3500.00\n",
       "Name: UnitPrice, dtype: float64"
      ]
     },
     "execution_count": 14,
     "metadata": {},
     "output_type": "execute_result"
    }
   ],
   "source": [
    "Orders.UnitPrice.describe().round(decimals=2)"
   ]
  },
  {
   "cell_type": "markdown",
   "metadata": {},
   "source": [
    "# PromotionDiscount折扣金額 / ECouponDiscount折價券折抵金額\n",
    "有45%的訂單有折扣，平均折扣為54元，有30%的訂單使用折價卷，平均折抵23元，較折扣金額少。"
   ]
  },
  {
   "cell_type": "code",
   "execution_count": 15,
   "metadata": {},
   "outputs": [
    {
     "data": {
      "text/html": [
       "<div>\n",
       "<style scoped>\n",
       "    .dataframe tbody tr th:only-of-type {\n",
       "        vertical-align: middle;\n",
       "    }\n",
       "\n",
       "    .dataframe tbody tr th {\n",
       "        vertical-align: top;\n",
       "    }\n",
       "\n",
       "    .dataframe thead th {\n",
       "        text-align: right;\n",
       "    }\n",
       "</style>\n",
       "<table border=\"1\" class=\"dataframe\">\n",
       "  <thead>\n",
       "    <tr style=\"text-align: right;\">\n",
       "      <th></th>\n",
       "      <th>count</th>\n",
       "      <th>mean</th>\n",
       "      <th>std</th>\n",
       "      <th>min</th>\n",
       "      <th>25%</th>\n",
       "      <th>50%</th>\n",
       "      <th>75%</th>\n",
       "      <th>max</th>\n",
       "    </tr>\n",
       "  </thead>\n",
       "  <tbody>\n",
       "    <tr>\n",
       "      <th>PromotionDiscount</th>\n",
       "      <td>2515388.0</td>\n",
       "      <td>-54.91</td>\n",
       "      <td>51.87</td>\n",
       "      <td>-3005.0</td>\n",
       "      <td>-80.0</td>\n",
       "      <td>-36.0</td>\n",
       "      <td>-19.0</td>\n",
       "      <td>-1.0</td>\n",
       "    </tr>\n",
       "    <tr>\n",
       "      <th>ECouponDiscount</th>\n",
       "      <td>1651127.0</td>\n",
       "      <td>-23.46</td>\n",
       "      <td>18.63</td>\n",
       "      <td>-207.0</td>\n",
       "      <td>-30.0</td>\n",
       "      <td>-18.0</td>\n",
       "      <td>-11.0</td>\n",
       "      <td>-1.0</td>\n",
       "    </tr>\n",
       "  </tbody>\n",
       "</table>\n",
       "</div>"
      ],
      "text/plain": [
       "                       count   mean    std     min   25%   50%   75%  max\n",
       "PromotionDiscount  2515388.0 -54.91  51.87 -3005.0 -80.0 -36.0 -19.0 -1.0\n",
       "ECouponDiscount    1651127.0 -23.46  18.63  -207.0 -30.0 -18.0 -11.0 -1.0"
      ]
     },
     "execution_count": 15,
     "metadata": {},
     "output_type": "execute_result"
    }
   ],
   "source": [
    "PD = Orders[Orders[\"PromotionDiscount\"]<0].PromotionDiscount.describe().round(decimals=2)\n",
    "ED = Orders[Orders[\"ECouponDiscount\"]<0].ECouponDiscount.describe().round(decimals=2)\n",
    "pd.DataFrame([PD,ED])"
   ]
  },
  {
   "cell_type": "markdown",
   "metadata": {},
   "source": [
    "# SalesOrderSlaveTotalPayment訂單明細金額\n",
    "訂單明細金額最低為0元，最高為14321元，平均為235元"
   ]
  },
  {
   "cell_type": "code",
   "execution_count": 16,
   "metadata": {},
   "outputs": [
    {
     "data": {
      "text/plain": [
       "count    5495276.00\n",
       "mean         235.52\n",
       "std          125.33\n",
       "min            0.00\n",
       "25%          167.00\n",
       "50%          199.00\n",
       "75%          298.00\n",
       "max        14321.00\n",
       "Name: SalesOrderSlaveTotalPayment, dtype: float64"
      ]
     },
     "execution_count": 16,
     "metadata": {},
     "output_type": "execute_result"
    }
   ],
   "source": [
    "Orders.SalesOrderSlaveTotalPayment.describe().round(decimals=2)"
   ]
  },
  {
   "cell_type": "markdown",
   "metadata": {},
   "source": [
    "# SalesOrderSlaveDateTime訂單成立時間\n",
    "11月為訂單最多的月份，可能是因為雙11的關係，而訂單成立的時間則在20點到0點之間最多"
   ]
  },
  {
   "cell_type": "code",
   "execution_count": 17,
   "metadata": {},
   "outputs": [],
   "source": [
    "Orders.SalesOrderSlaveDateTime = pd.to_datetime(Orders.SalesOrderSlaveDateTime.astype(str), format='%Y-%m-%d %H:%M:%S')"
   ]
  },
  {
   "cell_type": "code",
   "execution_count": 18,
   "metadata": {},
   "outputs": [],
   "source": [
    "month = Orders.SalesOrderSlaveDateTime.apply(lambda x:x.month)\n",
    "hour = Orders.SalesOrderSlaveDateTime.apply(lambda x:x.hour)"
   ]
  },
  {
   "cell_type": "code",
   "execution_count": 19,
   "metadata": {},
   "outputs": [
    {
     "data": {
      "text/plain": [
       "<matplotlib.axes._subplots.AxesSubplot at 0x27fa23eee80>"
      ]
     },
     "execution_count": 19,
     "metadata": {},
     "output_type": "execute_result"
    },
    {
     "data": {
      "image/png": "[encoded data removed]",
      "text/plain": [
       "<matplotlib.figure.Figure at 0x27fa23eeb38>"
      ]
     },
     "metadata": {},
     "output_type": "display_data"
    }
   ],
   "source": [
    "month.value_counts().sort_values().plot(kind = 'barh')"
   ]
  },
  {
   "cell_type": "code",
   "execution_count": 20,
   "metadata": {},
   "outputs": [
    {
     "data": {
      "text/plain": [
       "<matplotlib.axes._subplots.AxesSubplot at 0x27fa23eea90>"
      ]
     },
     "execution_count": 20,
     "metadata": {},
     "output_type": "execute_result"
    },
    {
     "data": {
      "image/png": "[encoded data removed]",
      "text/plain": [
       "<matplotlib.figure.Figure at 0x27fdd8a3e48>"
      ]
     },
     "metadata": {},
     "output_type": "display_data"
    }
   ],
   "source": [
    "hour.value_counts().sort_values().plot(kind = 'barh')"
   ]
  },
  {
   "cell_type": "markdown",
   "metadata": {},
   "source": [
    "# City訂單配送城市\n",
    "以台灣而言，訂單配送城市以新北市最多，桃園縣最低。"
   ]
  },
  {
   "cell_type": "code",
   "execution_count": 21,
   "metadata": {},
   "outputs": [
    {
     "data": {
      "text/plain": [
       "City\n",
       "新北市    1174232\n",
       "台中市     799081\n",
       "台北市     693837\n",
       "桃園市     586934\n",
       "高雄市     569046\n",
       "台南市     398810\n",
       "彰化縣     196922\n",
       "新竹市     145389\n",
       "新竹縣     127179\n",
       "屏東縣     122380\n",
       "苗栗縣     106055\n",
       "基隆市      87806\n",
       "雲林縣      86060\n",
       "宜蘭縣      85122\n",
       "南投縣      73099\n",
       "花蓮縣      67688\n",
       "嘉義縣      66482\n",
       "嘉義市      53985\n",
       "台東縣      34034\n",
       "澎湖縣      19647\n",
       "屏東市        764\n",
       "台東市        418\n",
       "桃園縣         92\n",
       "1st         41\n",
       "<fo         35\n",
       "New         30\n",
       "Nan         23\n",
       "Tao         17\n",
       "Tai          8\n",
       "25           8\n",
       "Quậ          6\n",
       "Hy           6\n",
       "Kao          5\n",
       "Xin          5\n",
       "Hsi          3\n",
       "No.          3\n",
       "Jia          3\n",
       "Keb          2\n",
       "Ins          2\n",
       "Kot          2\n",
       "Daf          2\n",
       "Aya          2\n",
       "Cha          1\n",
       "Đại          1\n",
       "dtype: int64"
      ]
     },
     "execution_count": 21,
     "metadata": {},
     "output_type": "execute_result"
    }
   ],
   "source": [
    "Orders.groupby(\"City\").size().sort_values(ascending=False)"
   ]
  },
  {
   "cell_type": "markdown",
   "metadata": {},
   "source": [
    "# District訂單配送區域\n",
    "訂單配送區域以東區最多，桃園市最低。"
   ]
  },
  {
   "cell_type": "code",
   "execution_count": 22,
   "metadata": {},
   "outputs": [
    {
     "data": {
      "text/plain": [
       "District\n",
       "東區       131963\n",
       "板橋區      130199\n",
       "北區       108723\n",
       "中壢區      100956\n",
       "中和區       96942\n",
       "三重區       96006\n",
       "新莊區       94304\n",
       "桃園區       90034\n",
       "中山區       85059\n",
       "西屯區       78329\n",
       "三民區       66608\n",
       "新店區       64700\n",
       "內湖區       62761\n",
       "大安區       61046\n",
       "永康區       60225\n",
       "信義區       58840\n",
       "北屯區       58133\n",
       "南區        56414\n",
       "汐止區       54726\n",
       "西區        54458\n",
       "土城區       52019\n",
       "龜山區       50097\n",
       "鳳山區       49982\n",
       "士林區       49036\n",
       "淡水區       48130\n",
       "文山區       47561\n",
       "蘆洲區       45341\n",
       "中正區       43870\n",
       "永和區       43837\n",
       "平鎮區       42073\n",
       "          ...  \n",
       "阿里山鄉        203\n",
       "三地門鄉        203\n",
       "番路鄉         191\n",
       "北門區         153\n",
       "豐濱鄉         101\n",
       "大埔鄉          95\n",
       "大同鄉          72\n",
       "達仁鄉          72\n",
       "獅潭鄉          56\n",
       "牡丹鄉          53\n",
       "泰武鄉          52\n",
       "南化區          44\n",
       "峨眉鄉          34\n",
       "田寮區          28\n",
       "田中鎮站區        27\n",
       "萬榮鄉          18\n",
       "西嶼鄉          17\n",
       "左鎮區          16\n",
       "延平鄉          15\n",
       "復興區          15\n",
       "尖石鄉          13\n",
       "龍崎區          11\n",
       "泰安鄉          10\n",
       "西湖鄉           9\n",
       "來義鄉           8\n",
       "茂林區           7\n",
       "金峰鄉           5\n",
       "海端鄉           4\n",
       "八德市           4\n",
       "桃園市           3\n",
       "Length: 340, dtype: int64"
      ]
     },
     "execution_count": 22,
     "metadata": {},
     "output_type": "execute_result"
    }
   ],
   "source": [
    "Orders.groupby(\"District\").size().sort_values(ascending=False)"
   ]
  },
  {
   "cell_type": "markdown",
   "metadata": {},
   "source": [
    "# StoreName訂單配送超商名稱\n",
    "明顯可以發現外島的超商特別熱門，其次則為校園中的超商。"
   ]
  },
  {
   "cell_type": "code",
   "execution_count": 23,
   "metadata": {},
   "outputs": [
    {
     "data": {
      "text/plain": [
       "StoreName\n",
       "全家澎湖鑫科店                   7169\n",
       "全家板橋堂春店                   4260\n",
       "全家澎湖海洋店                   3568\n",
       "全家澎湖朝陽店                   3435\n",
       "全家澎湖光復店                   3427\n",
       "清大門市                      3427\n",
       "全家永康新科店                   3418\n",
       "全家興政店                     3209\n",
       "靜大門市                      2755\n",
       "新家專門市                     2714\n",
       "嘉南門市                      2669\n",
       "藍田門市                      2625\n",
       "大潭門市                      2623\n",
       "全家龜山德明店                   2572\n",
       "中正大學門市                    2550\n",
       "全家壽豐東華店                   2537\n",
       "鹿鳴門市                      2509\n",
       "全家永康南科大店                  2469\n",
       "全家龜山庚勤店                   2436\n",
       "育樂門市                      2435\n",
       "全家大社翠屏店                   2387\n",
       "全家新文大店                    2345\n",
       "政大門市                      2345\n",
       "耀明門市                      2295\n",
       "東華門市                      2232\n",
       "全家台中金南門店                  2207\n",
       "鹿維門市                      2169\n",
       "全家高雄東賢店                   2158\n",
       "全家永康新南台店                  2131\n",
       "全家仁德二仁店                   2123\n",
       "                          ... \n",
       "日福門市                         2\n",
       "全家新竹台玻店                      2\n",
       "天成門市                         2\n",
       "全家屏東廣東店                      2\n",
       "Fu Yi-RACK                   2\n",
       "全家台南南紡店                      2\n",
       "He Guangmen City             2\n",
       "全家台南一中店                      2\n",
       "堤頂門市                         2\n",
       "全家本部店                        2\n",
       "Toko yao Hong Kong           2\n",
       "全家新竹花園店                      2\n",
       "Pasar Toyota Baru            2\n",
       "RACK Kurdi                   2\n",
       "SPIL store                   2\n",
       "全家仁愛巴統店                      2\n",
       "The new store Mackay         2\n",
       "全家太平豐年店                      2\n",
       "toko Telford                 2\n",
       "全家大甲甲上店                      1\n",
       "松機門市                         1\n",
       "Bekerja dengan toko          1\n",
       "Brilian Toko                 1\n",
       "全家永康永興店                      1\n",
       "Miharu cửa hàng              1\n",
       "cửa hàng Shang Village       1\n",
       "航站門市                         1\n",
       "Setelah toko kamp            1\n",
       "New South Gate City          1\n",
       "奇美實門市                        1\n",
       "Length: 8663, dtype: int64"
      ]
     },
     "execution_count": 23,
     "metadata": {},
     "output_type": "execute_result"
    }
   ],
   "source": [
    "Orders.groupby(\"StoreName\").size().sort_values(ascending=False)"
   ]
  },
  {
   "cell_type": "markdown",
   "metadata": {},
   "source": [
    "# DeliveryTypeDef訂單配送方式\n",
    "以7-11最多，全家其次，少部分為配送到府"
   ]
  },
  {
   "cell_type": "code",
   "execution_count": 24,
   "metadata": {},
   "outputs": [
    {
     "data": {
      "text/plain": [
       "DeliverTypeDef\n",
       "SevenEleven    2959135\n",
       "Family         2037871\n",
       "Home            498270\n",
       "dtype: int64"
      ]
     },
     "execution_count": 24,
     "metadata": {},
     "output_type": "execute_result"
    }
   ],
   "source": [
    "Orders.groupby(\"DeliverTypeDef\").size().sort_values(ascending=False)"
   ]
  },
  {
   "cell_type": "markdown",
   "metadata": {},
   "source": [
    "# StatusDef訂單狀態\n",
    "WaitingToShipping: 出貨中; Cancel: 取消單;CreditCheckFail: 信用卡付款失敗; Overdue: 未取貨;ReturnGoods: 退貨; Finish: 訂單成功"
   ]
  },
  {
   "cell_type": "code",
   "execution_count": 25,
   "metadata": {},
   "outputs": [
    {
     "data": {
      "text/plain": [
       "StatusDef\n",
       "Finish               4185534\n",
       "Cancel                749122\n",
       "Overdue               293402\n",
       "ReturnGoods           264761\n",
       "CreditCheckFail         1598\n",
       "WaitingToShipping        859\n",
       "dtype: int64"
      ]
     },
     "execution_count": 25,
     "metadata": {},
     "output_type": "execute_result"
    }
   ],
   "source": [
    "Orders.groupby(\"StatusDef\").size().sort_values(ascending=False)"
   ]
  },
  {
   "cell_type": "markdown",
   "metadata": {},
   "source": [
    "# CauseDef退貨原因\n",
    "最主要退貨的原因是「商品質感、品質不佳」，其次為「重複購買或不需要了」，而較少人是因為「價格比較貴」退貨"
   ]
  },
  {
   "cell_type": "code",
   "execution_count": 26,
   "metadata": {},
   "outputs": [
    {
     "data": {
      "text/plain": [
       "CauseDef\n",
       "商品質感/品質不佳         74062\n",
       "重複購買或不需要了         56907\n",
       "規格不符、商品與網頁標示不清    55468\n",
       "改買了別款或改付款方式       29909\n",
       "尺寸不合              25266\n",
       "商品有瑕疵或故障          14681\n",
       "其他                10712\n",
       "商品使用不如預期           7028\n",
       "送貨速度太慢             6000\n",
       "商品寄錯或缺件            1632\n",
       "價格比較貴              1580\n",
       "dtype: int64"
      ]
     },
     "execution_count": 26,
     "metadata": {},
     "output_type": "execute_result"
    }
   ],
   "source": [
    "Orders.groupby(\"CauseDef\").size().sort_values(ascending=False)"
   ]
  }
 ],
 "metadata": {
  "kernelspec": {
   "display_name": "Python 3",
   "language": "python",
   "name": "python3"
  },
  "language_info": {
   "codemirror_mode": {
    "name": "ipython",
    "version": 3
   },
   "file_extension": ".py",
   "mimetype": "text/x-python",
   "name": "python",
   "nbconvert_exporter": "python",
   "pygments_lexer": "ipython3",
   "version": "3.6.4"
  }
 },
 "nbformat": 4,
 "nbformat_minor": 2
}
